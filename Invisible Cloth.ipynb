{
 "cells": [
  {
   "cell_type": "code",
   "execution_count": 5,
   "metadata": {},
   "outputs": [
    {
     "name": "stdout",
     "output_type": "stream",
     "text": [
      "4.1.0\n"
     ]
    }
   ],
   "source": [
    "import cv2\n",
    "import numpy as np\n",
    "import time\n",
    "#harry potter uses that cloak to become invisible \n",
    "#color dectection technique and segmentation \n",
    "#in greeen screening we remove background in this techniqu we remove the background\n",
    "\n",
    "# alias python='/Library/Frameworks/Python.framework/Versions/3.6/bin/python3.6'\n",
    "# replace the pixels corresponding with background pixels to generate the invisibilty feature\n",
    "\n",
    "#Hue : This channel encodes color information. Hue can be thought of an angle where 0 degree corresponds to the red color, \n",
    "#      120 degrees corresponds to the green color, and 240 degrees corresponds to the blue color.\n",
    "#Saturation : This channel encodes the intensity/purity of color. For example, pink is less saturated than red.\n",
    "#$Value : This channel encodes the brightness of color. Shading and gloss components of an image appear in this channel\n",
    "#reading the videocapture video  \n",
    "print(cv2.__version__)\n",
    "capture_video = cv2.VideoCapture(\"video.mp4\")\n",
    "\n",
    "#give the camera to warm up\n",
    "time.sleep(1) \n",
    "count = 0 \n",
    "background = 0 \n",
    "\n",
    "#capturing the background in range of 60\n",
    "for i in range(60):\n",
    "\treturn_val , background = capture_video.read()\n",
    "\tif return_val == False :\n",
    "\t\tcontinue \n",
    "\n",
    "background = np.flip(background)\n",
    "\n",
    "# we are reading from video \n",
    "while (capture_video.isOpened()):\n",
    "\treturn_val, img = capture_video.read()\n",
    "\tif not return_val :\n",
    "\t\tbreak \n",
    "\tcount = count + 1\n",
    "\timg = np.flip(img , axis=1)\n",
    "\t# convert the image - BGR to HSV\n",
    "\t# as we focused on detection of red color \n",
    "\thsv = cv2.cvtColor(img , cv2.COLOR_BGR2HSV)\n",
    "\t# generating mask to detect red color\n",
    "\t# HSV\n",
    "\t# it should be mono-color cloth \n",
    "\t# lower range\n",
    "\tlower_red = np.array([100, 40, 40])\n",
    "\tupper_red = np.array([100, 255, 255])\n",
    "\tmask1 = cv2.inRange(hsv,lower_red,upper_red)\n",
    "\n",
    "\tlower_red = np.array([155, 40, 40])\n",
    "\tupper_red = np.array([180, 255, 255])\n",
    "\tmask2 = cv2.inRange(hsv,lower_red,upper_red)\n",
    "\n",
    "\tmask1 = mask1+mask2\n",
    "\n",
    "    # Refining the mask corresponding to the detected red color\n",
    "\tmask1 = cv2.morphologyEx(mask1, cv2.MORPH_OPEN, np.ones((3,3),np.uint8),iterations=2)\n",
    "\tmask1 = cv2.dilate(mask1,np.ones((3,3),np.uint8),iterations = 1)\n",
    "\tmask2 = cv2.bitwise_not(mask1)\n",
    "\n",
    "    # Generating the final output\n",
    "\tres1 = cv2.bitwise_and(background,background,mask=mask1)\n",
    "\tres2 = cv2.bitwise_and(img,img,mask=mask2)\n",
    "\tfinal_output = cv2.addWeighted(res1,1,res2,1,0)\n",
    "\n",
    "\tcv2.imshow(\"INVISIBLE MAN\",final_output)\n",
    "\tk = cv2.waitKey(10)\n",
    "\tif k == 27:\n",
    "\t\tbreak\n",
    "\n",
    "\n",
    "\n",
    "\n"
   ]
  },
  {
   "cell_type": "code",
   "execution_count": null,
   "metadata": {},
   "outputs": [],
   "source": []
  }
 ],
 "metadata": {
  "kernelspec": {
   "display_name": "Python 3",
   "language": "python",
   "name": "python3"
  },
  "language_info": {
   "codemirror_mode": {
    "name": "ipython",
    "version": 3
   },
   "file_extension": ".py",
   "mimetype": "text/x-python",
   "name": "python",
   "nbconvert_exporter": "python",
   "pygments_lexer": "ipython3",
   "version": "3.7.3"
  }
 },
 "nbformat": 4,
 "nbformat_minor": 2
}
